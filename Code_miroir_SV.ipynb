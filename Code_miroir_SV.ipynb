{
 "cells": [
  {
   "cell_type": "markdown",
   "id": "7a4440fc",
   "metadata": {},
   "source": [
    "# Importation des librairies"
   ]
  },
  {
   "cell_type": "code",
   "execution_count": 1,
   "id": "8453ad58",
   "metadata": {},
   "outputs": [],
   "source": [
    "import numpy as np\n",
    "import matplotlib.pyplot as pp\n",
    "import pycuda.driver as cuda\n",
    "from pycuda.compiler import SourceModule\n",
    "from scipy.signal import butter, filtfilt\n",
    "import time"
   ]
  },
  {
   "cell_type": "markdown",
   "id": "795d1a1b",
   "metadata": {},
   "source": [
    "# Création du contexte sur le GPU"
   ]
  },
  {
   "cell_type": "code",
   "execution_count": 2,
   "id": "88bf712b",
   "metadata": {},
   "outputs": [],
   "source": [
    "cuda.init()\n",
    "dev = cuda.Device(1)\n",
    "contx = dev.make_context()"
   ]
  },
  {
   "cell_type": "markdown",
   "id": "e1e075a2",
   "metadata": {},
   "source": [
    "# Définition de la fonction créant l'allocation mémoire"
   ]
  },
  {
   "cell_type": "code",
   "execution_count": null,
   "outputs": [],
   "source": [
    "def Numpy_to_gpu(M):\n",
    "    M = M.astype(np.float32)\n",
    "    M_gpu = cuda.mem_alloc(M.nbytes)\n",
    "    cuda.memcpy_htod(M_gpu, M)\n",
    "    return([M,M_gpu])\n",
    "\n",
    "def Affichage_5_subploat(X, Z, U, V, Sigma_xx, Sigma_zz, Sigma_xz, trace_type, x_courbe, z_courbe):\n",
    "    fig, axs = pp.subplots(3, 2, constrained_layout=True, figsize=(10, 10))\n",
    "    gridspec = axs[0, 0].get_subplotspec().get_gridspec()\n",
    "    \n",
    "\n",
    "    # Affichage U\n",
    "    ax1 = axs[0, 0]\n",
    "    Umin = np.min(U)\n",
    "    Umax = np.max(U)\n",
    "    U_abs=max(Umax,-Umin)\n",
    "    mylevelsU = np.linspace(-U_abs, U_abs, 20)\n",
    "    ax1.contourf(X, Z, U, levels=mylevelsU, cmap=trace_type)\n",
    "    ax1.set_title(\"U\")\n",
    "    ax1.set_xlabel(\"x\")\n",
    "    ax1.set_ylabel(\"z\")\n",
    "\n",
    "    # Affichage V\n",
    "    ax2 = axs[0, 1]\n",
    "    Vmin = np.min(V)\n",
    "    Vmax = np.max(V)\n",
    "    V_abs=max(Vmax,-Vmin)\n",
    "    mylevelsV = np.linspace(-V_abs, V_abs, 20)\n",
    "    ax2.contourf(X, Z, V, levels=mylevelsV, cmap=trace_type)\n",
    "    ax2.set_title(\"V\")\n",
    "    ax2.set_xlabel(\"x\")\n",
    "    ax2.set_ylabel(\"z\")\n",
    "\n",
    "    #   Affichage Sigma_xx\n",
    "    ax3 = axs[1, 0]\n",
    "    Sigma_xx_min = np.min(Sigma_xx)\n",
    "    Sigma_xx_max = np.max(Sigma_xx)\n",
    "    Sigma_xx_abs=max(Sigma_xx_max,-Sigma_xx_min)\n",
    "    mylevels_Sigma_xx = np.linspace(-Sigma_xx_abs, Sigma_xx_abs, 20)\n",
    "    ax3.contourf(X, Z, Sigma_xx, levels=mylevels_Sigma_xx, cmap=trace_type)\n",
    "    ax3.set_title(\"Sigma_xx\")\n",
    "    ax3.set_xlabel(\"x\")\n",
    "    ax3.set_ylabel(\"z\")\n",
    "\n",
    "    # Affichage Sigma_zz\n",
    "    ax4 = axs[1, 1]\n",
    "    Sigma_zz_min = np.min(Sigma_zz)\n",
    "    Sigma_zz_max = np.max(Sigma_zz)\n",
    "    Sigma_zz_abs=max(Sigma_zz_max,-Sigma_zz_min)\n",
    "    mylevels_Sigma_zz = np.linspace(-Sigma_zz_abs,Sigma_zz_abs, 20)\n",
    "    ax4.contourf(X, Z, Sigma_zz, levels=mylevels_Sigma_zz, cmap=trace_type)\n",
    "    ax4.set_title(\"Sigma_zz\")\n",
    "    ax4.set_xlabel(\"x\")\n",
    "    ax4.set_ylabel(\"z\")\n",
    "\n",
    "    # Affichage Sigma_xz\n",
    "    ax5 = axs[2, 0]\n",
    "    Sigma_xz_min = np.min(Sigma_xz)\n",
    "    Sigma_xz_max = np.max(Sigma_xz)\n",
    "    Sigma_xz_abs=max(Sigma_xz_max,-Sigma_xz_min)\n",
    "    mylevels_Sigma_xz = np.linspace(-Sigma_xz_abs, Sigma_xz_abs, 20)\n",
    "    ax5.contourf(X, Z, Sigma_xz, levels=mylevels_Sigma_xz, cmap=trace_type)\n",
    "    ax5.set_title(\"Sigma_xz\")\n",
    "    ax5.set_xlabel(\"x\")\n",
    "    ax5.set_ylabel(\"z\")\n",
    "    \n",
    "    # Affichage des surfaces\n",
    "    ax1.plot(x_surface,z_surface,'k')\n",
    "    ax2.plot(x_surface,z_surface,'k')\n",
    "    ax3.plot(x_surface,z_surface,'k')\n",
    "    ax4.plot(x_surface,z_surface,'k')\n",
    "    ax5.plot(x_surface,z_surface,'k')\n",
    "    pp.show()\n",
    "    \n",
    "def Calcul_mirror_point(Coor_miroir_gpu, z_fantome_gpu, z_surface_gpu, x_gpu, x_surface_gpu,longueur_grille_x):\n",
    "    mod_def_mirror_point = SourceModule(\"\"\"\n",
    "\n",
    "    __global__ void Calcul_point_miroir(float *coor_miroir, float *z_fantome, float *z_surface,float *x_fantome,float *x_surface)\n",
    "    {\n",
    "        int idx = (threadIdx.x+1+blockIdx.x*blockDim.x);\n",
    "        int i=-10;\n",
    "        float min_dist = (x_fantome[idx]-x_surface[10*idx-10])*(x_fantome[idx]-x_surface[10*idx-10])+\n",
    "        (z_fantome[idx]-z_surface[10*idx-10])*(z_fantome[idx]-z_surface[10*idx-10]);\n",
    "        int i_min=-10;\n",
    "        for (i=-10;i<10;i++) \n",
    "        {\n",
    "            if ((x_fantome[idx]-x_surface[10*idx+i])*(x_fantome[idx]-x_surface[10*idx+i])+\n",
    "            (z_fantome[idx]-z_surface[10*idx+i])*(z_fantome[idx]-z_surface[10*idx+i])<min_dist)\n",
    "            {\n",
    "                min_dist=(x_fantome[idx]-x_surface[10*idx+i])*(x_fantome[idx]-x_surface[10*idx+i])+\n",
    "                (z_fantome[idx]-z_surface[10*idx+i])*(z_fantome[idx]-z_surface[10*idx+i]);\n",
    "                i_min=i;\n",
    "            }\n",
    "        }\n",
    "        coor_miroir[2*idx]=2*x_surface[10*idx+i_min]-x_fantome[idx];\n",
    "        coor_miroir[2*idx+1]=2*z_surface[10*idx+i_min]-z_fantome[idx];\n",
    "    }\"\"\")\n",
    "    Calcul_point_miroir = mod_def_mirror_point.get_function(\"Calcul_point_miroir\")\n",
    "    Calcul_point_miroir(Coor_miroir_gpu, z_fantome_gpu, z_surface_gpu, x_gpu, x_surface_gpu, block=(32, 1, 1), grid=(longueur_grille_x, 1))\n",
    "\n",
    "def Mirror_iteration(M, M_gpu, M_gpu_cpy, longueur_grille_x, longueur_grille_z, Coor_point_fantome_gpu, Coef_interpolation, Nz):\n",
    "    \n",
    "    Mise_a_zero(M_gpu, Coor_point_fantome_gpu, block=(32, 32, 1), grid=(longueur_grille_x, longueur_grille_z))\n",
    "    for i in [1, 20]:\n",
    "            Iteration_miroir(M_gpu, M_gpu_cpy, Coor_point_fantome_gpu, Coef_interpolation, Nz, block=(32, 1, 1), grid=(longueur_grille_x, 1))\n",
    "            cuda.memcpy_dtod(M_gpu_cpy, M_gpu, M.nbytes)\n",
    "\n",
    "def Calcul_Stress(U_gpu, V_gpu, L_dec_i_gpu, M_dec_i_gpu, M_dec_j_gpu, coor_source, Sigma_xx_gpu, Sigma_xx_gpu_cpy, \n",
    "                  Sigma_zz_gpu, Sigma_zz_gpu_cpy, Sigma_xz_gpu, Sigma_xz_gpu_cpy, dt, dx, dz, longueur_grille_x, \n",
    "                  longueur_grille_z, source_t):\n",
    "    \n",
    "    velocity_to_stress(U_gpu, V_gpu, L_dec_i_gpu, M_dec_i_gpu, M_dec_j_gpu, coor_source, Sigma_xx_gpu, Sigma_zz_gpu, Sigma_xz_gpu, dt, dx,\n",
    "                   dz, source_t, block=(32, 32, 1), grid=(longueur_grille_x, longueur_grille_z))\n",
    "\n",
    "def Calcul_Stress_miroir(U_gpu, V_gpu, L_dec_i_gpu, M_dec_i_gpu, M_dec_j_gpu, coor_source, Sigma_xx_gpu, Sigma_xx_gpu_cpy, \n",
    "                  Sigma_zz_gpu, Sigma_zz_gpu_cpy, Sigma_xz_gpu, Sigma_xz_gpu_cpy, dt, dx, dz, longueur_grille_x, \n",
    "                  longueur_grille_z, source_t):\n",
    "    \n",
    "    velocity_to_stress(U_gpu, V_gpu, L_dec_i_gpu, M_dec_i_gpu, M_dec_j_gpu, coor_source, Sigma_xx_gpu, Sigma_zz_gpu, Sigma_xz_gpu, dt, dx,\n",
    "                   dz, source_t, block=(32, 32, 1), grid=(longueur_grille_x, longueur_grille_z))\n",
    "    \n",
    "    Mirror_iteration(Sigma_xx, Sigma_xx_gpu, Sigma_xx_gpu_cpy, longueur_grille_x, longueur_grille_z, Coor_point_fantome_gpu, \n",
    "                     Coef_interpolation, Nz)\n",
    "    Mirror_iteration(Sigma_xz, Sigma_xz_gpu, Sigma_xz_gpu_cpy, longueur_grille_x, longueur_grille_z, Coor_point_fantome_gpu, \n",
    "                     Coef_interpolation, Nz)\n",
    "    Mirror_iteration(Sigma_zz, Sigma_zz_gpu, Sigma_zz_gpu_cpy, longueur_grille_x, longueur_grille_z, Coor_point_fantome_gpu, \n",
    "                     Coef_interpolation, Nz)\n",
    "    \n",
    "def Calcul_velocity(U_gpu, U_gpu_cpy, V_gpu, V_gpu_cpy, B_gpu, B_dec_ij_gpu, Sigma_xx_gpu, Sigma_zz_gpu, Sigma_xz_gpu, dt, dx, dz,\n",
    "                    longueur_grille_x, longueur_grille_z):\n",
    "    \n",
    "    stress_to_velocity(U_gpu, V_gpu, B_gpu, B_dec_ij_gpu, Sigma_xx_gpu, Sigma_zz_gpu, Sigma_xz_gpu, dt, dx, dz, block=(32, 32, 1),\n",
    "                       grid=(longueur_grille_x, longueur_grille_z))\n",
    "\n",
    "def Calcul_velocity_miroir(U_gpu, U_gpu_cpy, V_gpu, V_gpu_cpy, B_gpu, B_dec_ij_gpu, Sigma_xx_gpu, Sigma_zz_gpu, Sigma_xz_gpu, dt, dx, dz,\n",
    "                    longueur_grille_x, longueur_grille_z):\n",
    "    \n",
    "    stress_to_velocity(U_gpu, V_gpu, B_gpu, B_dec_ij_gpu, Sigma_xx_gpu, Sigma_zz_gpu, Sigma_xz_gpu, dt, dx, dz, block=(32, 32, 1),\n",
    "                       grid=(longueur_grille_x, longueur_grille_z))\n",
    "                       \n",
    "    Mirror_iteration(U, U_gpu, U_gpu_cpy, longueur_grille_x, longueur_grille_z, Coor_point_fantome_gpu, \n",
    "                     Coef_interpolation, Nz)\n",
    "    Mirror_iteration(V, V_gpu, V_gpu_cpy, longueur_grille_x, longueur_grille_z, Coor_point_fantome_gpu, \n",
    "                     Coef_interpolation, Nz)\n",
    "\n",
    "\n",
    "def Create_surface(x_min, x_max, Nx, x_data, z_data, x, dz, Aff_plot=False):\n",
    "    def filtre_surface(data,cutoff,fs,order):\n",
    "        normal_cutoff=2*cutoff/fs\n",
    "        b,a=butter(order,normal_cutoff,btype=('low'),analog=False)\n",
    "        y=filtfilt(b,a,data)\n",
    "        return(y)\n",
    "\n",
    "    def Creating_ghost_point(z_surface, z_min, dz, Nx):\n",
    "\n",
    "        z_fantome=[]\n",
    "        for i in range (Nx):\n",
    "            z_fantome.append((int((z_surface[10*i]+z_min)/dz)+1)*dz-z_min) \n",
    "        z_fantome =np.array(z_fantome)\n",
    "        [z_fantome,z_fantome_gpu] = Numpy_to_gpu(z_fantome)\n",
    "\n",
    "        Coor_point_fantome = (z_fantome-z_min)/dz\n",
    "        Coor_point_fantome = Coor_point_fantome.astype(np.int32)\n",
    "        Coor_point_fantome_gpu = cuda.mem_alloc(Coor_point_fantome.nbytes)\n",
    "        cuda.memcpy_htod(Coor_point_fantome_gpu, Coor_point_fantome)\n",
    "\n",
    "        return([z_fantome,z_fantome_gpu,Coor_point_fantome_gpu])\n",
    "\n",
    "    def Create_mirror_point(Nx, z_fantome_gpu, z_surface_gpu, x_surface_gpu, x_gpu, z_min, dz):\n",
    "\n",
    "        Coor_miroir = np.zeros((Nx , 2))\n",
    "        [Coor_miroir,Coor_miroir_gpu] = Numpy_to_gpu(Coor_miroir)\n",
    "\n",
    "        Calcul_mirror_point(Coor_miroir_gpu, z_fantome_gpu, z_surface_gpu, x_gpu, x_surface_gpu, (Nx-2)//32)\n",
    "\n",
    "        return([Coor_miroir, Coor_miroir_gpu])\n",
    "\n",
    "    def Treating_data_surface(x_min, x_max, Nx, x_data, z_data):\n",
    "\n",
    "        Nx_courbe = 10 * (Nx - 1) + 1\n",
    "        dx_courbe = np.float32((x_max - x_min) / (Nx_courbe - 1))\n",
    "\n",
    "        x_surface=np.linspace(x_min,x_max,Nx_courbe)\n",
    "        [x_surface,x_surface_gpu]=Numpy_to_gpu(x_surface)\n",
    "\n",
    "        x_data_min=np.min(x_data)\n",
    "        x_data_max=np.max(x_data)\n",
    "\n",
    "        if (x_min>x_data_min) or (x_max < x_data_max):\n",
    "            print(\"Les données ne permettent pas de créer la surface sur l'ensemble du domaine d'étude.\")\n",
    "\n",
    "        z_surface =np.interp(x_surface, x_data, z_data)\n",
    "        z_surface=filtre_surface(z_surface, 1/dx, 1/dx_courbe, 4)\n",
    "        [z_surface,z_surface_gpu]=Numpy_to_gpu(z_surface)\n",
    "\n",
    "        return([x_surface, x_surface_gpu, z_surface, z_surface_gpu])\n",
    "\n",
    "    [x,x_gpu]=Numpy_to_gpu(x)\n",
    "    \n",
    "    [x_surface, x_surface_gpu, z_surface, z_surface_gpu]=Treating_data_surface(x_min, x_max, Nx, x_data, z_data)\n",
    "    \n",
    "    [z_fantome,z_fantome_gpu,Coor_point_fantome_gpu] = Creating_ghost_point(z_surface, z_min, dz, Nx)\n",
    "    \n",
    "    [Coor_miroir, Coor_miroir_gpu]=Create_mirror_point(Nx, z_fantome_gpu, z_surface_gpu, x_surface_gpu, x_gpu, z_min, dz)\n",
    "    \n",
    "    cuda.memcpy_dtoh(Coor_miroir, Coor_miroir_gpu)\n",
    "    \n",
    "    if Aff_plot:\n",
    "        pp.figure(figsize=(15, 15))\n",
    "        pp.plot(x_surface,z_surface)\n",
    "        pp.plot(x,z_fantome)\n",
    "        pp.plot(Coor_miroir[1:-1,0],Coor_miroir[1:-1,1])\n",
    "        pp.show\n",
    "        \n",
    "    return([Coor_point_fantome_gpu,Coor_miroir_gpu, x_surface, z_surface])\n",
    "\n",
    "def CUDA_function():\n",
    "    mod = SourceModule(\"\"\"\n",
    "    #include <math.h>\n",
    "    #define NX (blockDim.x*gridDim.x+2)\n",
    "\n",
    "    __device__ float Df(float xn1,float xn, float dx)\n",
    "    {\n",
    "        return((xn1-xn)/dx);\n",
    "    }\n",
    "    __global__ void stress_to_velocity(float *u, float *v, float *b, float *b_dec_ij, float *sigma_xx,\n",
    "    float *sigma_zz, float *sigma_xz, float dt, float dx, float dz)\n",
    "    { \n",
    "        int idx = (threadIdx.x+1) +(blockIdx.x*blockDim.x)+ \n",
    "        (threadIdx.y + 1 + blockDim.y * blockIdx.y) * NX;\n",
    "\n",
    "        u[idx] += b[idx]*dt*(Df(sigma_xx[idx],sigma_xx[idx-1],dx)+\n",
    "        Df(sigma_xz[idx],sigma_xz[idx-NX],dz));\n",
    "\n",
    "        v[idx] += b_dec_ij[idx]*dt*(Df(sigma_xz[idx+1],sigma_xz[idx],dx)+\n",
    "        Df(sigma_zz[idx + NX],sigma_zz[idx],dz));\n",
    "    }\n",
    "    __global__ void velocity_to_stress(float *u, float *v, float *l_dec_i, float *m_dec_i, float *m_dec_j, int coor_source,\n",
    "    float *sigma_xx, float *sigma_zz, float *sigma_xz,float dt,float dx, float dz, float source_t)\n",
    "    { \n",
    "        int idx = (threadIdx.x+1) +(blockIdx.x*blockDim.x)+ (threadIdx.y + 1 + blockDim.y * blockIdx.y) * NX;\n",
    "\n",
    "        sigma_xx[idx] += (l_dec_i[idx]+2*m_dec_i[idx])*dt*Df(u[idx+1],u[idx],dx)+\n",
    "        l_dec_i[idx]*dt*Df(v[idx],v[idx-NX],dz);\n",
    "\n",
    "        sigma_zz[idx] += (l_dec_i[idx]+2*m_dec_i[idx])*dt*Df(v[idx],v[idx-NX],dz)+\n",
    "        l_dec_i[idx]*dt*Df(u[idx+1],u[idx],dx);\n",
    "\n",
    "        sigma_xz[idx] += (m_dec_j[idx])*dt*(Df(v[idx],v[idx-1],dx)+\n",
    "        Df(u[idx+NX],u[idx],dz));\n",
    "\n",
    "        if (idx == coor_source)\n",
    "        {\n",
    "            sigma_xx[idx] += source_t;\n",
    "            sigma_zz[idx] += source_t;;\n",
    "        }\n",
    "    }\n",
    "    __device__ float sinc(float x)\n",
    "    {\n",
    "        if (x==0)\n",
    "        {return(1);}\n",
    "        else\n",
    "        {return(sin(M_PI*x)/(M_PI*x));}\n",
    "    }\n",
    "    __global__ void Calcul_coefficient_interpolation(float *coef_interpolation, float *coor_miroir,float dx, float dz,\n",
    "    float x_min,float z_min)\n",
    "    { \n",
    "        int idx = (threadIdx.x+1) +(blockIdx.x*blockDim.x)+ (threadIdx.y + 1 + blockDim.y * blockIdx.y) * NX;\n",
    "        int i=0;\n",
    "        int m= threadIdx.x+1 +blockIdx.x*blockDim.x;\n",
    "        int n= threadIdx.y + 1 + blockDim.y * blockIdx.y;\n",
    "        float Bx=1/(2*dx);\n",
    "        float Bz=1/(2*dz);\n",
    "        float rx=2*Bx*dx;\n",
    "        float ry=2*Bz*dz;\n",
    "\n",
    "        int Nz=(blockDim.y *gridDim.y+2);\n",
    "        for (i=1;i<(NX-1);i++)\n",
    "        {\n",
    "            coef_interpolation[idx+i*NX*Nz]=rx*ry*sinc(2*Bx*(coor_miroir[2*i]-x_min)-rx*m)*\n",
    "            sinc(2*Bz*(coor_miroir[2*i+1]-z_min)-ry*n);\n",
    "        }\n",
    "    }\n",
    "     __global__ void Mise_a_zero(float *p, int *coor_fantome_z)\n",
    "    {\n",
    "        if(threadIdx.y+blockDim.y *blockIdx.y+1>coor_fantome_z[threadIdx.x+blockDim.x *blockIdx.x+1]-1)\n",
    "        {\n",
    "            p[threadIdx.x+1+blockDim.x *blockIdx.x+(threadIdx.y+1+blockDim.y *blockIdx.y)*NX]=0;\n",
    "        }\n",
    "\n",
    "    }\n",
    "    __global__ void Iteration_miroir (float *p, float *p_cpy, int *coor_fantome_z,float *coef_interpolation,  int Nz)\n",
    "    {\n",
    "        int idx=(threadIdx.x+1) +(blockIdx.x*blockDim.x);\n",
    "        float pvalue=0;\n",
    "        int i=0;\n",
    "        int j=0;\n",
    "        for(i=1;i<NX-1;i++)\n",
    "        {\n",
    "            for (j=1;j<Nz;j++)\n",
    "            {\n",
    "                pvalue+=p_cpy[i+j*NX]*coef_interpolation[NX*(j+idx*(blockDim.y *gridDim.y+2))+i];\n",
    "            }\n",
    "        }\n",
    "        p[idx+coor_fantome_z[idx]*(blockDim.x *gridDim.x+2)]=-pvalue; \n",
    "    }\n",
    "    \"\"\")\n",
    "    Calcul_coefficient_interpolation=mod.get_function(\"Calcul_coefficient_interpolation\")\n",
    "    stress_to_velocity = mod.get_function(\"stress_to_velocity\")\n",
    "    velocity_to_stress = mod.get_function(\"velocity_to_stress\")\n",
    "    Mise_a_zero=mod.get_function(\"Mise_a_zero\")\n",
    "    Iteration_miroir=mod.get_function(\"Iteration_miroir\")\n",
    "    \n",
    "    return([Calcul_coefficient_interpolation, stress_to_velocity, velocity_to_stress, Mise_a_zero, Iteration_miroir])\n",
    "\n",
    "def Etat_initial_cpy(Nx,Nz):\n",
    "    M = np.zeros((Nz, Nx)) \n",
    "    M = M.astype(np.float32)\n",
    "    M_gpu = cuda.mem_alloc(M.nbytes)\n",
    "    cuda.memcpy_htod(M_gpu, M)\n",
    "\n",
    "    M_gpu_cpy = cuda.mem_alloc(M.nbytes)\n",
    "    cuda.memcpy_htod(M_gpu_cpy, M)\n",
    "    return [M, M_gpu, M_gpu_cpy]\n",
    "\n",
    "def Etat_initial(Nx,Nz):\n",
    "    M = np.zeros((Nz, Nx)) \n",
    "    M = M.astype(np.float32)\n",
    "    M_gpu = cuda.mem_alloc(M.nbytes)\n",
    "    cuda.memcpy_htod(M_gpu, M)\n",
    "    return [M,M_gpu]\n",
    "    \n",
    "def Study_Domain(x_min, x_max, z_min, z_max, Coor_source, Vp):\n",
    "\n",
    "    # Nx=alpha/3\n",
    "    # Nz=alpha/3\n",
    "    Nx = 200\n",
    "    Nz = 200\n",
    "\n",
    "    # Teste si Nz et Nx sont sous la bonne forme pour les GPU\n",
    "\n",
    "    if (Nx - 2) % 32 != 0:\n",
    "        Nx += 32 - (Nx - 2) % 32\n",
    "    if (Nz - 2) % 32 != 0:\n",
    "        Nz += 32 - (Nz - 2) % 32\n",
    "\n",
    "    dz = np.float32((z_max - z_min) / (Nz - 1))\n",
    "\n",
    "    dx = np.float32((x_max - x_min) / (Nx - 1))\n",
    "    \n",
    "    dt = np.float32(0.8* dx /(np.sqrt(2)*Vp))\n",
    "    Nt = int(Tf / dt) + 1\n",
    "\n",
    "    # Create coordinate point source\n",
    "    Coor_source_gpu=np.int32(int((Coor_source[0] - x_min) / dx)+ Nx * int((Coor_source[1] - z_min) / dz))\n",
    "    \n",
    "    return([Nx, Nz, Nt, dx, dz, dt, Coor_source_gpu])\n",
    "\n",
    "def Fonction_Source(t,alpĥa, retard):\n",
    "    \n",
    "    result=(1- 2*alpha*(t-retard)**2)* np.exp(-alpha*(t-retard)**2)\n",
    "    \n",
    "    return(result.astype(np.float32))\n",
    "\n",
    "def Treating_soil_carac(B, L, M, longueur_grille_x, longueur_grille_z):\n",
    "    \n",
    "    [B,B_gpu]=Numpy_to_gpu(B)\n",
    "    B_dec_ij_gpu = cuda.mem_alloc(B.nbytes)\n",
    "    cuda.memcpy_dtod(B_dec_ij_gpu, B_gpu,B.nbytes)\n",
    "\n",
    "    [L,L_gpu]=Numpy_to_gpu(L)\n",
    "    L_dec_i_gpu = cuda.mem_alloc(L.nbytes)\n",
    "    cuda.memcpy_dtod(L_dec_i_gpu, L_gpu, L.nbytes)\n",
    "    \n",
    "    [M,M_gpu]=Numpy_to_gpu(M)\n",
    "    M_dec_i_gpu = cuda.mem_alloc(M.nbytes)\n",
    "    cuda.memcpy_dtod(M_dec_i_gpu, M_gpu, M.nbytes)\n",
    "    M_dec_j_gpu = cuda.mem_alloc(M.nbytes)\n",
    "    cuda.memcpy_dtod(M_dec_j_gpu, M_gpu, M.nbytes)\n",
    "    \n",
    "    mod_soil = SourceModule(\"\"\"\n",
    "    #define NX (blockDim.x*gridDim.x+2)\n",
    "    \n",
    "    __global__ void decalage_b(float *b, float *b_dec_ij)\n",
    "    {\n",
    "        int idx = (threadIdx.x+1) +(blockIdx.x*blockDim.x)+(threadIdx.y + 1 + blockDim.y * blockIdx.y) * NX;\n",
    "        b_dec_ij[idx]=4/(1/(b[idx])+1/(b[idx+1])+1/(b[idx+NX])+1/(b[idx+NX+1]));\n",
    "    }\n",
    "    __global__ void decalage_l(float *l, float *l_dec_i)\n",
    "    {\n",
    "        int idx = (threadIdx.x+1) +(blockIdx.x*blockDim.x)+(threadIdx.y + 1 + blockDim.y * blockIdx.y) * NX;\n",
    "        l_dec_i[idx]=2/(1/(l[idx])+1/(l[idx+1]));\n",
    "    }\n",
    "    __global__ void decalage_m(float *m, float*m_dec_i, float *m_dec_j)\n",
    "    {\n",
    "        int idx = (threadIdx.x+1) +(blockIdx.x*blockDim.x)+(threadIdx.y + 1 + blockDim.y * blockIdx.y) * NX;\n",
    "        m_dec_i[idx]=2/(1/(m[idx])+1/(m[idx+1]));\n",
    "        m_dec_j[idx]=2/(1/(m[idx])+1/(m[idx+NX]));\n",
    "    }\n",
    "    \"\"\")\n",
    "    decalage_B=mod_soil.get_function(\"decalage_b\")\n",
    "    decalage_L=mod_soil.get_function(\"decalage_l\")\n",
    "    decalage_M=mod_soil.get_function(\"decalage_m\")\n",
    "    \n",
    "    decalage_B(B_gpu, B_dec_ij_gpu, block=(32,32,1), grid=(longueur_grille_x,longueur_grille_z))\n",
    "    decalage_L(L_gpu, L_dec_i_gpu, block=(32,32,1), grid=(longueur_grille_x,longueur_grille_z))\n",
    "    decalage_M(M_gpu, M_dec_i_gpu, M_dec_j_gpu, block=(32,32,1), grid=(longueur_grille_x,longueur_grille_z))\n",
    "    \n",
    "#     cuda.memcpy_dtoh(B, B_gpu)\n",
    "#     print(B)\n",
    "\n",
    "#     cuda.memcpy_dtoh(B, B_dec_ij_gpu)\n",
    "#     print(B)\n",
    "    \n",
    "#     cuda.memcpy_dtoh(L, L_dec_i_gpu)\n",
    "#     print(L)\n",
    "    \n",
    "#     cuda.memcpy_dtoh(M, M_dec_i_gpu)\n",
    "#     print(M)\n",
    "\n",
    "#     cuda.memcpy_dtoh(M, M_dec_j_gpu)\n",
    "#     print(M)\n",
    "    \n",
    "    \n",
    "    return([B_gpu, B_dec_ij_gpu, L_dec_i_gpu, M_dec_i_gpu, M_dec_j_gpu])\n",
    "\n",
    "\n",
    "\n",
    "\n"
   ],
   "metadata": {
    "collapsed": false,
    "pycharm": {
     "name": "#%%\n"
    }
   }
  },
  {
   "cell_type": "markdown",
   "source": [
    "# Définition du domaine d'étude et des pas de discrétisation spatial"
   ],
   "metadata": {
    "collapsed": false,
    "pycharm": {
     "name": "#%% md\n"
    }
   }
  },
  {
   "cell_type": "code",
   "execution_count": null,
   "outputs": [],
   "source": [
    "# Définition du domaine d'étude\n",
    "x_min = -5000\n",
    "x_max = 5000\n",
    "z_min = -5000\n",
    "z_max = 5000\n",
    "Tf = 5\n",
    "Nx = 200\n",
    "Nz = 200\n",
    "\n",
    "# Définition de l'emplacement et de la forme de la source\n",
    "alpha=500\n",
    "t0=1\n",
    "Coor_source=[0,0]\n",
    "\n",
    "Vp = 3000  # Vitesse des ondes P\n",
    "Vs = 1500  # Vitesse des ondes S\n",
    "rho = 2000  # Densité\n",
    "\n",
    "# Données expérimentale des points de la surface\n",
    "\n",
    "Nx_data = 51\n",
    "dx_data = np.float32((x_max - x_min) / (Nx_data - 1))\n",
    "x_data=np.linspace(x_min,x_max,Nx_data)\n",
    "z_data = 4000 * np.exp(-np.square(x_data) / (1000) ** 2)\n",
    "\n",
    "[Nx, Nz, Nt, dx, dz, dt, Coor_source_gpu] = Study_Domain(x_min, x_max, z_min, z_max, Coor_source, Vp)\n",
    "\n",
    "B = np.ones((Nz, Nx)) / rho  # Inverse de la densité (i,j)\n",
    "L = (rho * Vp ** 2 - 2 * rho * Vs ** 2) * np.ones((Nz, Nx))  # Coefficient Lambda (i+1/2,j)\n",
    "M = (rho * Vs ** 2) * np.ones((Nz, Nx))  # Coefficient Mu (i,i+1/2,j,j+1/2)\n",
    "\n",
    "longueur_grille_x = (Nx - 2) // 32\n",
    "longueur_grille_z = (Nz - 2) // 32\n",
    "[B_gpu, B_dec_ij_gpu, L_dec_i_gpu, M_dec_i_gpu, M_dec_j_gpu]=Treating_soil_carac(B,L,M,longueur_grille_x,longueur_grille_z)\n",
    "\n",
    "\n",
    "# Creating dataset\n",
    "\n",
    "X, Z = np.meshgrid(np.linspace(x_min, x_max, Nx), np.linspace(z_min, z_max, Nz))\n",
    "\n",
    "# Mise en forme des données de la surface\n",
    "\n",
    "[Coor_point_fantome_gpu,Coor_miroir_gpu, x_surface, z_surface] = Create_surface(x_min, x_max, Nx, x_data, z_data, X[0,:], dz)\n"
   ],
   "metadata": {
    "collapsed": false,
    "pycharm": {
     "name": "#%%\n"
    }
   }
  },
  {
   "cell_type": "markdown",
   "source": [
    "# Préparation des allocations mémoires pour l'état initial"
   ],
   "metadata": {
    "collapsed": false,
    "pycharm": {
     "name": "#%% md\n"
    }
   }
  },
  {
   "cell_type": "code",
   "execution_count": null,
   "outputs": [],
   "source": [
    "[U,U_gpu,U_gpu_cpy]=Etat_initial_cpy(Nx,Nz)\n",
    "\n",
    "[V,V_gpu,V_gpu_cpy]=Etat_initial_cpy(Nx,Nz)\n",
    "\n",
    "[Sigma_xx,Sigma_xx_gpu,Sigma_xx_gpu_cpy]=Etat_initial_cpy(Nx,Nz)\n",
    "\n",
    "[Sigma_xz,Sigma_xz_gpu,Sigma_xz_gpu_cpy]=Etat_initial_cpy(Nx,Nz)\n",
    "\n",
    "[Sigma_zz,Sigma_zz_gpu,Sigma_zz_gpu_cpy]=Etat_initial_cpy(Nx,Nz)"
   ],
   "metadata": {
    "collapsed": false,
    "pycharm": {
     "name": "#%%\n"
    }
   }
  },
  {
   "cell_type": "markdown",
   "source": [
    "# Importation des fonctions et définition des tailles de la grille"
   ],
   "metadata": {
    "collapsed": false,
    "pycharm": {
     "name": "#%% md\n"
    }
   }
  },
  {
   "cell_type": "code",
   "execution_count": null,
   "outputs": [],
   "source": [
    "[Calcul_coefficient_interpolation, stress_to_velocity, velocity_to_stress, Mise_a_zero, Iteration_miroir]= CUDA_function()\n",
    "\n",
    "x_min=np.float32(x_min)\n",
    "z_min=np.float32(z_min)\n",
    "Nz=np.int32(Nz)\n"
   ],
   "metadata": {
    "collapsed": false,
    "pycharm": {
     "name": "#%%\n"
    }
   }
  },
  {
   "cell_type": "markdown",
   "source": [
    "# Calcul des coefficients d'interpolation"
   ],
   "metadata": {
    "collapsed": false,
    "pycharm": {
     "name": "#%% md\n"
    }
   }
  },
  {
   "cell_type": "code",
   "execution_count": null,
   "outputs": [],
   "source": [
    "Coef_interpolation=cuda.mem_alloc(Nx*U.nbytes)\n",
    "Calcul_coefficient_interpolation(Coef_interpolation, Coor_miroir_gpu, dx, dz, x_min, z_min, block=(32, 32, 1), grid=(longueur_grille_x, longueur_grille_z))"
   ],
   "metadata": {
    "collapsed": false,
    "pycharm": {
     "name": "#%%\n"
    }
   }
  },
  {
   "cell_type": "markdown",
   "source": [
    "# Calcul de la propagation et Affichage de la propagation"
   ],
   "metadata": {
    "collapsed": false,
    "pycharm": {
     "name": "#%% md\n"
    }
   }
  },
  {
   "cell_type": "code",
   "execution_count": null,
   "outputs": [],
   "source": [
    "\n",
    "trace_type=\"coolwarm\"\n",
    "nb_iter_aff=100\n",
    "vecteur_source=[]\n",
    "\n",
    "# Définition des paramétres d'itération en temps\n",
    "nt = 0\n",
    "t = np.float32(0)\n",
    "\n",
    "source_t=Fonction_Source(t,alpha,t0)\n",
    "Calcul_Stress_miroir(U_gpu, V_gpu, L_dec_i_gpu, M_dec_i_gpu, M_dec_j_gpu, Coor_source_gpu, Sigma_xx_gpu, Sigma_xx_gpu_cpy, Sigma_zz_gpu, \n",
    "              Sigma_zz_gpu_cpy, Sigma_xz_gpu, Sigma_xz_gpu_cpy, dt, dx, dz, longueur_grille_x, \n",
    "              longueur_grille_z, source_t)\n",
    "vecteur_source.append(source_t)\n",
    "while nt < Nt:\n",
    "# Itération en temps\n",
    "    nt += 1\n",
    "    t += dt\n",
    "    \n",
    "    source_t=Fonction_Source(t,alpha,t0)\n",
    "    Calcul_velocity_miroir(U_gpu, U_gpu_cpy, V_gpu, V_gpu_cpy, B_gpu, B_dec_ij_gpu, Sigma_xx_gpu, Sigma_zz_gpu, Sigma_xz_gpu, dt, dx,\n",
    "                    dz, longueur_grille_x, longueur_grille_z)\n",
    "    \n",
    "    \n",
    "    # Calcul des contraintes sur toute la matrice\n",
    "    Calcul_Stress_miroir(U_gpu, V_gpu, L_dec_i_gpu, M_dec_i_gpu, M_dec_j_gpu, Coor_source_gpu, Sigma_xx_gpu, Sigma_xx_gpu_cpy, Sigma_zz_gpu, \n",
    "                  Sigma_zz_gpu_cpy, Sigma_xz_gpu, Sigma_xz_gpu_cpy, dt, dx, dz, longueur_grille_x, \n",
    "                  longueur_grille_z, source_t)\n",
    "    vecteur_source.append(source_t)\n",
    "    \n",
    "    # Affichage en python\n",
    "    if nt % nb_iter_aff == 0:        \n",
    "        # On importe les résultats Cuda en python\n",
    "        cuda.memcpy_dtoh(U, U_gpu)\n",
    "        cuda.memcpy_dtoh(V, V_gpu)\n",
    "        cuda.memcpy_dtoh(Sigma_xx, Sigma_xx_gpu)\n",
    "        cuda.memcpy_dtoh(Sigma_zz, Sigma_zz_gpu)\n",
    "        cuda.memcpy_dtoh(Sigma_xz, Sigma_xz_gpu)\n",
    "        \n",
    "        Affichage_5_subploat(X, Z, U, V, Sigma_xx, Sigma_zz, Sigma_xz, trace_type, x_surface, z_surface)\n"
   ],
   "metadata": {
    "collapsed": false,
    "pycharm": {
     "name": "#%%\n"
    }
   }
  },
  {
   "cell_type": "markdown",
   "source": [
    "# Suppression du contexte"
   ],
   "metadata": {
    "collapsed": false,
    "pycharm": {
     "name": "#%% md\n"
    }
   }
  },
  {
   "cell_type": "code",
   "execution_count": null,
   "outputs": [],
   "source": [
    "contx.pop()"
   ],
   "metadata": {
    "collapsed": false,
    "pycharm": {
     "name": "#%%\n"
    }
   }
  },
  {
   "cell_type": "code",
   "execution_count": null,
   "outputs": [],
   "source": [
    "pp.plot(vecteur_source)"
   ],
   "metadata": {
    "collapsed": false,
    "pycharm": {
     "name": "#%%\n"
    }
   }
  },
  {
   "cell_type": "code",
   "execution_count": null,
   "outputs": [],
   "source": [],
   "metadata": {
    "collapsed": false,
    "pycharm": {
     "name": "#%%\n"
    }
   }
  },
  {
   "cell_type": "code",
   "execution_count": null,
   "outputs": [],
   "source": [],
   "metadata": {
    "collapsed": false,
    "pycharm": {
     "name": "#%%\n"
    }
   }
  },
  {
   "cell_type": "code",
   "execution_count": null,
   "id": "1c2d8e30",
   "metadata": {
    "pycharm": {
     "name": "#%%\n"
    }
   },
   "outputs": [],
   "source": []
  }
 ],
 "metadata": {
  "kernelspec": {
   "display_name": "seis_SV",
   "language": "python",
   "name": "seis_sv"
  },
  "language_info": {
   "codemirror_mode": {
    "name": "ipython",
    "version": 3
   },
   "file_extension": ".py",
   "mimetype": "text/x-python",
   "name": "python",
   "nbconvert_exporter": "python",
   "pygments_lexer": "ipython3",
   "version": "3.6.8"
  }
 },
 "nbformat": 4,
 "nbformat_minor": 5
}